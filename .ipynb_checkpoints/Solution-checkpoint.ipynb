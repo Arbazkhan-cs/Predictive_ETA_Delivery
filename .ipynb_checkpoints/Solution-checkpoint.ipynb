{
 "cells": [
  {
   "cell_type": "markdown",
   "id": "e74e5eb8",
   "metadata": {},
   "source": [
    "## Load Dataset"
   ]
  },
  {
   "cell_type": "code",
   "execution_count": 18,
   "id": "87a5df49",
   "metadata": {},
   "outputs": [],
   "source": [
    "import pandas as pd\n",
    "import numpy as np\n",
    "import matplotlib.pyplot as plt\n",
    "import seaborn as sns\n",
    "\n",
    "from sklearn.linear_model import LinearRegression\n",
    "from sklearn.model_selection import train_test_split\n",
    "from sklearn.metrics import accuracy_score, mean_absolute_error, mean_squared_error, r2_score"
   ]
  },
  {
   "cell_type": "code",
   "execution_count": 2,
   "id": "c5e4f822",
   "metadata": {},
   "outputs": [],
   "source": [
    "df = pd.read_csv(\"sample_data.csv\")"
   ]
  },
  {
   "cell_type": "code",
   "execution_count": 3,
   "id": "b63506eb",
   "metadata": {
    "scrolled": true
   },
   "outputs": [
    {
     "data": {
      "text/html": [
       "<div>\n",
       "<style scoped>\n",
       "    .dataframe tbody tr th:only-of-type {\n",
       "        vertical-align: middle;\n",
       "    }\n",
       "\n",
       "    .dataframe tbody tr th {\n",
       "        vertical-align: top;\n",
       "    }\n",
       "\n",
       "    .dataframe thead th {\n",
       "        text-align: right;\n",
       "    }\n",
       "</style>\n",
       "<table border=\"1\" class=\"dataframe\">\n",
       "  <thead>\n",
       "    <tr style=\"text-align: right;\">\n",
       "      <th></th>\n",
       "      <th>order_id</th>\n",
       "      <th>R_Lon</th>\n",
       "      <th>R_Lat</th>\n",
       "      <th>C_Lon</th>\n",
       "      <th>C_Lat</th>\n",
       "      <th>order_pickedup_time</th>\n",
       "      <th>order_delivered_time</th>\n",
       "    </tr>\n",
       "  </thead>\n",
       "  <tbody>\n",
       "    <tr>\n",
       "      <th>0</th>\n",
       "      <td>PRD_ZMT_2960011</td>\n",
       "      <td>77.063728</td>\n",
       "      <td>28.468983</td>\n",
       "      <td>77.071230</td>\n",
       "      <td>28.449929</td>\n",
       "      <td>2016-04-23 09:30:20</td>\n",
       "      <td>2016-04-23 09:57:04</td>\n",
       "    </tr>\n",
       "    <tr>\n",
       "      <th>1</th>\n",
       "      <td>PRD_ZMT_2964555</td>\n",
       "      <td>77.063728</td>\n",
       "      <td>28.468983</td>\n",
       "      <td>77.066637</td>\n",
       "      <td>28.454522</td>\n",
       "      <td>2016-04-23 11:05:32</td>\n",
       "      <td>2016-04-23 11:27:10</td>\n",
       "    </tr>\n",
       "    <tr>\n",
       "      <th>2</th>\n",
       "      <td>PRD_ZMT_2968945</td>\n",
       "      <td>77.063728</td>\n",
       "      <td>28.468983</td>\n",
       "      <td>77.067590</td>\n",
       "      <td>28.461570</td>\n",
       "      <td>2016-04-23 14:49:07</td>\n",
       "      <td>2016-04-23 15:07:18</td>\n",
       "    </tr>\n",
       "    <tr>\n",
       "      <th>3</th>\n",
       "      <td>PRD_ZMT_2976663</td>\n",
       "      <td>77.063728</td>\n",
       "      <td>28.468983</td>\n",
       "      <td>77.058401</td>\n",
       "      <td>28.455738</td>\n",
       "      <td>2016-04-23 16:43:14</td>\n",
       "      <td>2016-04-23 17:16:12</td>\n",
       "    </tr>\n",
       "    <tr>\n",
       "      <th>4</th>\n",
       "      <td>PRD_ZMT_2985948</td>\n",
       "      <td>77.063728</td>\n",
       "      <td>28.468983</td>\n",
       "      <td>77.083967</td>\n",
       "      <td>28.440068</td>\n",
       "      <td>2016-04-24 07:54:14</td>\n",
       "      <td>2016-04-24 08:16:29</td>\n",
       "    </tr>\n",
       "  </tbody>\n",
       "</table>\n",
       "</div>"
      ],
      "text/plain": [
       "          order_id      R_Lon      R_Lat      C_Lon      C_Lat  \\\n",
       "0  PRD_ZMT_2960011  77.063728  28.468983  77.071230  28.449929   \n",
       "1  PRD_ZMT_2964555  77.063728  28.468983  77.066637  28.454522   \n",
       "2  PRD_ZMT_2968945  77.063728  28.468983  77.067590  28.461570   \n",
       "3  PRD_ZMT_2976663  77.063728  28.468983  77.058401  28.455738   \n",
       "4  PRD_ZMT_2985948  77.063728  28.468983  77.083967  28.440068   \n",
       "\n",
       "   order_pickedup_time order_delivered_time  \n",
       "0  2016-04-23 09:30:20  2016-04-23 09:57:04  \n",
       "1  2016-04-23 11:05:32  2016-04-23 11:27:10  \n",
       "2  2016-04-23 14:49:07  2016-04-23 15:07:18  \n",
       "3  2016-04-23 16:43:14  2016-04-23 17:16:12  \n",
       "4  2016-04-24 07:54:14  2016-04-24 08:16:29  "
      ]
     },
     "execution_count": 3,
     "metadata": {},
     "output_type": "execute_result"
    }
   ],
   "source": [
    "df.head()"
   ]
  },
  {
   "cell_type": "markdown",
   "id": "2ebc8fce",
   "metadata": {},
   "source": [
    "## Calculate Total Time Taken"
   ]
  },
  {
   "cell_type": "code",
   "execution_count": 4,
   "id": "5220532f",
   "metadata": {},
   "outputs": [],
   "source": [
    "# Convert pickup and delivery times to datetime objects\n",
    "df['order_pickedup_time'] = pd.to_datetime(df['order_pickedup_time'])\n",
    "df['order_delivered_time'] = pd.to_datetime(df['order_delivered_time'])\n",
    "\n",
    "# Calculate ETA (in minutes)\n",
    "df['ETA'] = (df['order_delivered_time'] - df['order_pickedup_time']).dt.total_seconds() / 60"
   ]
  },
  {
   "cell_type": "code",
   "execution_count": 5,
   "id": "b3577de2",
   "metadata": {},
   "outputs": [
    {
     "data": {
      "text/html": [
       "<div>\n",
       "<style scoped>\n",
       "    .dataframe tbody tr th:only-of-type {\n",
       "        vertical-align: middle;\n",
       "    }\n",
       "\n",
       "    .dataframe tbody tr th {\n",
       "        vertical-align: top;\n",
       "    }\n",
       "\n",
       "    .dataframe thead th {\n",
       "        text-align: right;\n",
       "    }\n",
       "</style>\n",
       "<table border=\"1\" class=\"dataframe\">\n",
       "  <thead>\n",
       "    <tr style=\"text-align: right;\">\n",
       "      <th></th>\n",
       "      <th>order_id</th>\n",
       "      <th>R_Lon</th>\n",
       "      <th>R_Lat</th>\n",
       "      <th>C_Lon</th>\n",
       "      <th>C_Lat</th>\n",
       "      <th>order_pickedup_time</th>\n",
       "      <th>order_delivered_time</th>\n",
       "      <th>ETA</th>\n",
       "    </tr>\n",
       "  </thead>\n",
       "  <tbody>\n",
       "    <tr>\n",
       "      <th>0</th>\n",
       "      <td>PRD_ZMT_2960011</td>\n",
       "      <td>77.063728</td>\n",
       "      <td>28.468983</td>\n",
       "      <td>77.071230</td>\n",
       "      <td>28.449929</td>\n",
       "      <td>2016-04-23 09:30:20</td>\n",
       "      <td>2016-04-23 09:57:04</td>\n",
       "      <td>26.733333</td>\n",
       "    </tr>\n",
       "    <tr>\n",
       "      <th>1</th>\n",
       "      <td>PRD_ZMT_2964555</td>\n",
       "      <td>77.063728</td>\n",
       "      <td>28.468983</td>\n",
       "      <td>77.066637</td>\n",
       "      <td>28.454522</td>\n",
       "      <td>2016-04-23 11:05:32</td>\n",
       "      <td>2016-04-23 11:27:10</td>\n",
       "      <td>21.633333</td>\n",
       "    </tr>\n",
       "    <tr>\n",
       "      <th>2</th>\n",
       "      <td>PRD_ZMT_2968945</td>\n",
       "      <td>77.063728</td>\n",
       "      <td>28.468983</td>\n",
       "      <td>77.067590</td>\n",
       "      <td>28.461570</td>\n",
       "      <td>2016-04-23 14:49:07</td>\n",
       "      <td>2016-04-23 15:07:18</td>\n",
       "      <td>18.183333</td>\n",
       "    </tr>\n",
       "    <tr>\n",
       "      <th>3</th>\n",
       "      <td>PRD_ZMT_2976663</td>\n",
       "      <td>77.063728</td>\n",
       "      <td>28.468983</td>\n",
       "      <td>77.058401</td>\n",
       "      <td>28.455738</td>\n",
       "      <td>2016-04-23 16:43:14</td>\n",
       "      <td>2016-04-23 17:16:12</td>\n",
       "      <td>32.966667</td>\n",
       "    </tr>\n",
       "    <tr>\n",
       "      <th>4</th>\n",
       "      <td>PRD_ZMT_2985948</td>\n",
       "      <td>77.063728</td>\n",
       "      <td>28.468983</td>\n",
       "      <td>77.083967</td>\n",
       "      <td>28.440068</td>\n",
       "      <td>2016-04-24 07:54:14</td>\n",
       "      <td>2016-04-24 08:16:29</td>\n",
       "      <td>22.250000</td>\n",
       "    </tr>\n",
       "  </tbody>\n",
       "</table>\n",
       "</div>"
      ],
      "text/plain": [
       "          order_id      R_Lon      R_Lat      C_Lon      C_Lat  \\\n",
       "0  PRD_ZMT_2960011  77.063728  28.468983  77.071230  28.449929   \n",
       "1  PRD_ZMT_2964555  77.063728  28.468983  77.066637  28.454522   \n",
       "2  PRD_ZMT_2968945  77.063728  28.468983  77.067590  28.461570   \n",
       "3  PRD_ZMT_2976663  77.063728  28.468983  77.058401  28.455738   \n",
       "4  PRD_ZMT_2985948  77.063728  28.468983  77.083967  28.440068   \n",
       "\n",
       "  order_pickedup_time order_delivered_time        ETA  \n",
       "0 2016-04-23 09:30:20  2016-04-23 09:57:04  26.733333  \n",
       "1 2016-04-23 11:05:32  2016-04-23 11:27:10  21.633333  \n",
       "2 2016-04-23 14:49:07  2016-04-23 15:07:18  18.183333  \n",
       "3 2016-04-23 16:43:14  2016-04-23 17:16:12  32.966667  \n",
       "4 2016-04-24 07:54:14  2016-04-24 08:16:29  22.250000  "
      ]
     },
     "execution_count": 5,
     "metadata": {},
     "output_type": "execute_result"
    }
   ],
   "source": [
    "df.head()"
   ]
  },
  {
   "cell_type": "markdown",
   "id": "967975d0",
   "metadata": {},
   "source": [
    "## Calculate Distance"
   ]
  },
  {
   "cell_type": "code",
   "execution_count": 10,
   "id": "45cf73b8",
   "metadata": {},
   "outputs": [],
   "source": [
    "# Feature Engineering\n",
    "df['travel_distance'] = np.sqrt((df['C_Lon'] - df['R_Lon']) ** 2 + (df['C_Lat'] - df['R_Lat']) ** 2)\n",
    "df['hour_of_day'] = df['order_pickedup_time'].dt.hour\n",
    "df['day_of_week'] = df['order_pickedup_time'].dt.dayofweek"
   ]
  },
  {
   "cell_type": "code",
   "execution_count": 11,
   "id": "50efe2e0",
   "metadata": {},
   "outputs": [
    {
     "data": {
      "text/html": [
       "<div>\n",
       "<style scoped>\n",
       "    .dataframe tbody tr th:only-of-type {\n",
       "        vertical-align: middle;\n",
       "    }\n",
       "\n",
       "    .dataframe tbody tr th {\n",
       "        vertical-align: top;\n",
       "    }\n",
       "\n",
       "    .dataframe thead th {\n",
       "        text-align: right;\n",
       "    }\n",
       "</style>\n",
       "<table border=\"1\" class=\"dataframe\">\n",
       "  <thead>\n",
       "    <tr style=\"text-align: right;\">\n",
       "      <th></th>\n",
       "      <th>order_id</th>\n",
       "      <th>R_Lon</th>\n",
       "      <th>R_Lat</th>\n",
       "      <th>C_Lon</th>\n",
       "      <th>C_Lat</th>\n",
       "      <th>order_pickedup_time</th>\n",
       "      <th>order_delivered_time</th>\n",
       "      <th>ETA</th>\n",
       "      <th>travel_distance</th>\n",
       "      <th>hour_of_day</th>\n",
       "      <th>day_of_week</th>\n",
       "    </tr>\n",
       "  </thead>\n",
       "  <tbody>\n",
       "    <tr>\n",
       "      <th>0</th>\n",
       "      <td>PRD_ZMT_2960011</td>\n",
       "      <td>77.063728</td>\n",
       "      <td>28.468983</td>\n",
       "      <td>77.071230</td>\n",
       "      <td>28.449929</td>\n",
       "      <td>2016-04-23 09:30:20</td>\n",
       "      <td>2016-04-23 09:57:04</td>\n",
       "      <td>26.733333</td>\n",
       "      <td>0.020478</td>\n",
       "      <td>9</td>\n",
       "      <td>5</td>\n",
       "    </tr>\n",
       "    <tr>\n",
       "      <th>1</th>\n",
       "      <td>PRD_ZMT_2964555</td>\n",
       "      <td>77.063728</td>\n",
       "      <td>28.468983</td>\n",
       "      <td>77.066637</td>\n",
       "      <td>28.454522</td>\n",
       "      <td>2016-04-23 11:05:32</td>\n",
       "      <td>2016-04-23 11:27:10</td>\n",
       "      <td>21.633333</td>\n",
       "      <td>0.014751</td>\n",
       "      <td>11</td>\n",
       "      <td>5</td>\n",
       "    </tr>\n",
       "    <tr>\n",
       "      <th>2</th>\n",
       "      <td>PRD_ZMT_2968945</td>\n",
       "      <td>77.063728</td>\n",
       "      <td>28.468983</td>\n",
       "      <td>77.067590</td>\n",
       "      <td>28.461570</td>\n",
       "      <td>2016-04-23 14:49:07</td>\n",
       "      <td>2016-04-23 15:07:18</td>\n",
       "      <td>18.183333</td>\n",
       "      <td>0.008359</td>\n",
       "      <td>14</td>\n",
       "      <td>5</td>\n",
       "    </tr>\n",
       "    <tr>\n",
       "      <th>3</th>\n",
       "      <td>PRD_ZMT_2976663</td>\n",
       "      <td>77.063728</td>\n",
       "      <td>28.468983</td>\n",
       "      <td>77.058401</td>\n",
       "      <td>28.455738</td>\n",
       "      <td>2016-04-23 16:43:14</td>\n",
       "      <td>2016-04-23 17:16:12</td>\n",
       "      <td>32.966667</td>\n",
       "      <td>0.014276</td>\n",
       "      <td>16</td>\n",
       "      <td>5</td>\n",
       "    </tr>\n",
       "    <tr>\n",
       "      <th>4</th>\n",
       "      <td>PRD_ZMT_2985948</td>\n",
       "      <td>77.063728</td>\n",
       "      <td>28.468983</td>\n",
       "      <td>77.083967</td>\n",
       "      <td>28.440068</td>\n",
       "      <td>2016-04-24 07:54:14</td>\n",
       "      <td>2016-04-24 08:16:29</td>\n",
       "      <td>22.250000</td>\n",
       "      <td>0.035294</td>\n",
       "      <td>7</td>\n",
       "      <td>6</td>\n",
       "    </tr>\n",
       "  </tbody>\n",
       "</table>\n",
       "</div>"
      ],
      "text/plain": [
       "          order_id      R_Lon      R_Lat      C_Lon      C_Lat  \\\n",
       "0  PRD_ZMT_2960011  77.063728  28.468983  77.071230  28.449929   \n",
       "1  PRD_ZMT_2964555  77.063728  28.468983  77.066637  28.454522   \n",
       "2  PRD_ZMT_2968945  77.063728  28.468983  77.067590  28.461570   \n",
       "3  PRD_ZMT_2976663  77.063728  28.468983  77.058401  28.455738   \n",
       "4  PRD_ZMT_2985948  77.063728  28.468983  77.083967  28.440068   \n",
       "\n",
       "  order_pickedup_time order_delivered_time        ETA  travel_distance  \\\n",
       "0 2016-04-23 09:30:20  2016-04-23 09:57:04  26.733333         0.020478   \n",
       "1 2016-04-23 11:05:32  2016-04-23 11:27:10  21.633333         0.014751   \n",
       "2 2016-04-23 14:49:07  2016-04-23 15:07:18  18.183333         0.008359   \n",
       "3 2016-04-23 16:43:14  2016-04-23 17:16:12  32.966667         0.014276   \n",
       "4 2016-04-24 07:54:14  2016-04-24 08:16:29  22.250000         0.035294   \n",
       "\n",
       "   hour_of_day  day_of_week  \n",
       "0            9            5  \n",
       "1           11            5  \n",
       "2           14            5  \n",
       "3           16            5  \n",
       "4            7            6  "
      ]
     },
     "execution_count": 11,
     "metadata": {},
     "output_type": "execute_result"
    }
   ],
   "source": [
    "df.head()"
   ]
  },
  {
   "cell_type": "markdown",
   "id": "4a2d53d4",
   "metadata": {},
   "source": [
    "## Objective 1: Identify ETA distributions"
   ]
  },
  {
   "cell_type": "code",
   "execution_count": 40,
   "id": "f027dc61",
   "metadata": {},
   "outputs": [
    {
     "data": {
      "image/png": "[encoded data removed]",
      "text/plain": [
       "<Figure size 1200x600 with 1 Axes>"
      ]
     },
     "metadata": {},
     "output_type": "display_data"
    },
    {
     "data": {
      "image/png": "[encoded data removed]",
      "text/plain": [
       "<Figure size 1200x600 with 1 Axes>"
      ]
     },
     "metadata": {},
     "output_type": "display_data"
    }
   ],
   "source": [
    "# Plotting ETA distributions based on factors such as time of day and travel distance\n",
    "plt.figure(figsize=(12, 6))\n",
    "sns.histplot(df, x='hour_of_day', y=\"ETA\", hue='day_of_week', bins=30, kde=True)\n",
    "plt.title('Distribution of Pickup Hour by Day of Week')\n",
    "plt.xlabel('Hour of Day')\n",
    "plt.ylabel('ETA')\n",
    "plt.show()\n",
    "\n",
    "plt.figure(figsize=(12, 6))\n",
    "sns.histplot(df, x='travel_distance', y=\"ETA\", bins=30, kde=True)\n",
    "plt.title('Distance Traveled Vs ETA')\n",
    "plt.xlabel('Distance Traveled')\n",
    "plt.ylabel('ETA')\n",
    "plt.show()"
   ]
  },
  {
   "cell_type": "markdown",
   "id": "e788086f",
   "metadata": {},
   "source": [
    "## Objective 2: Develop a predictive model for ETA estimation\n"
   ]
  },
  {
   "cell_type": "code",
   "execution_count": 28,
   "id": "c758adf2",
   "metadata": {},
   "outputs": [
    {
     "data": {
      "text/html": [
       "<style>#sk-container-id-2 {color: black;background-color: white;}#sk-container-id-2 pre{padding: 0;}#sk-container-id-2 div.sk-toggleable {background-color: white;}#sk-container-id-2 label.sk-toggleable__label {cursor: pointer;display: block;width: 100%;margin-bottom: 0;padding: 0.3em;box-sizing: border-box;text-align: center;}#sk-container-id-2 label.sk-toggleable__label-arrow:before {content: \"▸\";float: left;margin-right: 0.25em;color: #696969;}#sk-container-id-2 label.sk-toggleable__label-arrow:hover:before {color: black;}#sk-container-id-2 div.sk-estimator:hover label.sk-toggleable__label-arrow:before {color: black;}#sk-container-id-2 div.sk-toggleable__content {max-height: 0;max-width: 0;overflow: hidden;text-align: left;background-color: #f0f8ff;}#sk-container-id-2 div.sk-toggleable__content pre {margin: 0.2em;color: black;border-radius: 0.25em;background-color: #f0f8ff;}#sk-container-id-2 input.sk-toggleable__control:checked~div.sk-toggleable__content {max-height: 200px;max-width: 100%;overflow: auto;}#sk-container-id-2 input.sk-toggleable__control:checked~label.sk-toggleable__label-arrow:before {content: \"▾\";}#sk-container-id-2 div.sk-estimator input.sk-toggleable__control:checked~label.sk-toggleable__label {background-color: #d4ebff;}#sk-container-id-2 div.sk-label input.sk-toggleable__control:checked~label.sk-toggleable__label {background-color: #d4ebff;}#sk-container-id-2 input.sk-hidden--visually {border: 0;clip: rect(1px 1px 1px 1px);clip: rect(1px, 1px, 1px, 1px);height: 1px;margin: -1px;overflow: hidden;padding: 0;position: absolute;width: 1px;}#sk-container-id-2 div.sk-estimator {font-family: monospace;background-color: #f0f8ff;border: 1px dotted black;border-radius: 0.25em;box-sizing: border-box;margin-bottom: 0.5em;}#sk-container-id-2 div.sk-estimator:hover {background-color: #d4ebff;}#sk-container-id-2 div.sk-parallel-item::after {content: \"\";width: 100%;border-bottom: 1px solid gray;flex-grow: 1;}#sk-container-id-2 div.sk-label:hover label.sk-toggleable__label {background-color: #d4ebff;}#sk-container-id-2 div.sk-serial::before {content: \"\";position: absolute;border-left: 1px solid gray;box-sizing: border-box;top: 0;bottom: 0;left: 50%;z-index: 0;}#sk-container-id-2 div.sk-serial {display: flex;flex-direction: column;align-items: center;background-color: white;padding-right: 0.2em;padding-left: 0.2em;position: relative;}#sk-container-id-2 div.sk-item {position: relative;z-index: 1;}#sk-container-id-2 div.sk-parallel {display: flex;align-items: stretch;justify-content: center;background-color: white;position: relative;}#sk-container-id-2 div.sk-item::before, #sk-container-id-2 div.sk-parallel-item::before {content: \"\";position: absolute;border-left: 1px solid gray;box-sizing: border-box;top: 0;bottom: 0;left: 50%;z-index: -1;}#sk-container-id-2 div.sk-parallel-item {display: flex;flex-direction: column;z-index: 1;position: relative;background-color: white;}#sk-container-id-2 div.sk-parallel-item:first-child::after {align-self: flex-end;width: 50%;}#sk-container-id-2 div.sk-parallel-item:last-child::after {align-self: flex-start;width: 50%;}#sk-container-id-2 div.sk-parallel-item:only-child::after {width: 0;}#sk-container-id-2 div.sk-dashed-wrapped {border: 1px dashed gray;margin: 0 0.4em 0.5em 0.4em;box-sizing: border-box;padding-bottom: 0.4em;background-color: white;}#sk-container-id-2 div.sk-label label {font-family: monospace;font-weight: bold;display: inline-block;line-height: 1.2em;}#sk-container-id-2 div.sk-label-container {text-align: center;}#sk-container-id-2 div.sk-container {/* jupyter's `normalize.less` sets `[hidden] { display: none; }` but bootstrap.min.css set `[hidden] { display: none !important; }` so we also need the `!important` here to be able to override the default hidden behavior on the sphinx rendered scikit-learn.org. See: https://github.com/scikit-learn/scikit-learn/issues/21755 */display: inline-block !important;position: relative;}#sk-container-id-2 div.sk-text-repr-fallback {display: none;}</style><div id=\"sk-container-id-2\" class=\"sk-top-container\"><div class=\"sk-text-repr-fallback\"><pre>LinearRegression()</pre><b>In a Jupyter environment, please rerun this cell to show the HTML representation or trust the notebook. <br />On GitHub, the HTML representation is unable to render, please try loading this page with nbviewer.org.</b></div><div class=\"sk-container\" hidden><div class=\"sk-item\"><div class=\"sk-estimator sk-toggleable\"><input class=\"sk-toggleable__control sk-hidden--visually\" id=\"sk-estimator-id-2\" type=\"checkbox\" checked><label for=\"sk-estimator-id-2\" class=\"sk-toggleable__label sk-toggleable__label-arrow\">LinearRegression</label><div class=\"sk-toggleable__content\"><pre>LinearRegression()</pre></div></div></div></div></div>"
      ],
      "text/plain": [
       "LinearRegression()"
      ]
     },
     "execution_count": 28,
     "metadata": {},
     "output_type": "execute_result"
    }
   ],
   "source": [
    "# Splitting the data into training and testing sets\n",
    "X = df[['hour_of_day', 'day_of_week', 'travel_distance']]\n",
    "y = df['ETA']\n",
    "X_train, X_test, y_train, y_test = train_test_split(X, y, test_size=0.2, random_state=42)\n",
    "\n",
    "# Model Training\n",
    "model = LinearRegression()\n",
    "model.fit(X_train, y_train)"
   ]
  },
  {
   "cell_type": "code",
   "execution_count": 29,
   "id": "cd016517",
   "metadata": {},
   "outputs": [],
   "source": [
    "y_pred = model.predict(X_test)"
   ]
  },
  {
   "cell_type": "code",
   "execution_count": 30,
   "id": "4d5f7894",
   "metadata": {},
   "outputs": [
    {
     "data": {
      "text/plain": [
       "array([19.71900477, 17.94457048, 18.49428106, 18.96212447, 18.95532338,\n",
       "       19.27507465, 18.83408164, 19.06052009, 18.05627979, 18.92618177])"
      ]
     },
     "execution_count": 30,
     "metadata": {},
     "output_type": "execute_result"
    }
   ],
   "source": [
    "y_pred[:10]"
   ]
  },
  {
   "cell_type": "code",
   "execution_count": 31,
   "id": "5b32fa84",
   "metadata": {},
   "outputs": [
    {
     "data": {
      "text/plain": [
       "50638     13.733333\n",
       "201997    22.100000\n",
       "222305     4.616667\n",
       "30506     14.066667\n",
       "208834    18.016667\n",
       "173867     0.283333\n",
       "83841     27.300000\n",
       "55473     10.533333\n",
       "151202    14.666667\n",
       "131187     6.083333\n",
       "Name: ETA, dtype: float64"
      ]
     },
     "execution_count": 31,
     "metadata": {},
     "output_type": "execute_result"
    }
   ],
   "source": [
    "y_test[:10]"
   ]
  },
  {
   "cell_type": "markdown",
   "id": "dc2daed4",
   "metadata": {},
   "source": [
    "## Evaluate model"
   ]
  },
  {
   "cell_type": "code",
   "execution_count": 32,
   "id": "4a017ac2",
   "metadata": {},
   "outputs": [
    {
     "name": "stdout",
     "output_type": "stream",
     "text": [
      "Mean Absolute Error (MAE): 9.628510769729061\n",
      "Mean Squared Error (MSE): 611.2806306566583\n",
      "R-squared (R2) score: 0.000197582053434342\n"
     ]
    }
   ],
   "source": [
    "# Model Evaluation\n",
    "y_pred = model.predict(X_test)\n",
    "mae = mean_absolute_error(y_test, y_pred)\n",
    "mse = mean_squared_error(y_test, y_pred)\n",
    "r2 = r2_score(y_test, y_pred)\n",
    "\n",
    "print(\"Mean Absolute Error (MAE):\", mae)\n",
    "print(\"Mean Squared Error (MSE):\", mse)\n",
    "print(\"R-squared (R2) score:\", r2)"
   ]
  },
  {
   "cell_type": "code",
   "execution_count": 33,
   "id": "651dda8a",
   "metadata": {},
   "outputs": [
    {
     "name": "stdout",
     "output_type": "stream",
     "text": [
      "           Feature  Coefficient\n",
      "0      hour_of_day     0.113296\n",
      "1      day_of_week    -0.106196\n",
      "2  travel_distance     0.080835\n"
     ]
    },
    {
     "data": {
      "image/png": "[encoded data removed]",
      "text/plain": [
       "<Figure size 1000x600 with 1 Axes>"
      ]
     },
     "metadata": {},
     "output_type": "display_data"
    }
   ],
   "source": [
    "# Model Interpretation\n",
    "coef_df = pd.DataFrame({'Feature': X_test.columns, 'Coefficient': model.coef_})\n",
    "print(coef_df)\n",
    "\n",
    "# Plotting Actual vs. Predicted ETA\n",
    "plt.figure(figsize=(10, 6))\n",
    "plt.scatter(X_test[\"travel_distance\"], y_test, label=\"Actual ETA\")\n",
    "plt.scatter(X_test[\"travel_distance\"], y_pred, label=\"Predicted ETA\")\n",
    "plt.title('Actual vs. Predicted ETA')\n",
    "plt.xlabel('Travel Distance')\n",
    "plt.ylabel('ETA')\n",
    "plt.legend()\n",
    "plt.show()"
   ]
  },
  {
   "cell_type": "code",
   "execution_count": null,
   "id": "6b51d11e",
   "metadata": {},
   "outputs": [],
   "source": []
  }
 ],
 "metadata": {
  "kernelspec": {
   "display_name": "Python 3 (ipykernel)",
   "language": "python",
   "name": "python3"
  },
  "language_info": {
   "codemirror_mode": {
    "name": "ipython",
    "version": 3
   },
   "file_extension": ".py",
   "mimetype": "text/x-python",
   "name": "python",
   "nbconvert_exporter": "python",
   "pygments_lexer": "ipython3",
   "version": "3.11.3"
  }
 },
 "nbformat": 4,
 "nbformat_minor": 5
}
